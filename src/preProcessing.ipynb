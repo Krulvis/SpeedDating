{
 "cells": [
  {
   "cell_type": "markdown",
   "metadata": {
    "id": "5PnNRCkasqYv",
    "colab_type": "text"
   },
   "source": [
    "# Load the dataset from the csv file"
   ]
  },
  {
   "cell_type": "code",
   "execution_count": 1,
   "metadata": {
    "id": "Uz-i7t9IsqYx",
    "colab_type": "code",
    "colab": {
     "base_uri": "https://localhost:8080/",
     "height": 300.0
    },
    "outputId": "15417b2f-d4d4-47b3-b4ce-97d079b7a84c",
    "executionInfo": {
     "status": "ok",
     "timestamp": 1.539685742844E12,
     "user_tz": -120.0,
     "elapsed": 10330.0,
     "user": {
      "displayName": "Joep Kt",
      "photoUrl": "",
      "userId": "14938389179235968030"
     }
    }
   },
   "outputs": [
    {
     "data": {
      "text/html": [
       "<div>\n",
       "<style scoped>\n",
       "    .dataframe tbody tr th:only-of-type {\n",
       "        vertical-align: middle;\n",
       "    }\n",
       "\n",
       "    .dataframe tbody tr th {\n",
       "        vertical-align: top;\n",
       "    }\n",
       "\n",
       "    .dataframe thead th {\n",
       "        text-align: right;\n",
       "    }\n",
       "</style>\n",
       "<table border=\"1\" class=\"dataframe\">\n",
       "  <thead>\n",
       "    <tr style=\"text-align: right;\">\n",
       "      <th></th>\n",
       "      <th>iid</th>\n",
       "      <th>id</th>\n",
       "      <th>gender</th>\n",
       "      <th>idg</th>\n",
       "      <th>condtn</th>\n",
       "      <th>wave</th>\n",
       "      <th>round</th>\n",
       "      <th>position</th>\n",
       "      <th>positin1</th>\n",
       "      <th>order</th>\n",
       "      <th>...</th>\n",
       "      <th>attr3_3</th>\n",
       "      <th>sinc3_3</th>\n",
       "      <th>intel3_3</th>\n",
       "      <th>fun3_3</th>\n",
       "      <th>amb3_3</th>\n",
       "      <th>attr5_3</th>\n",
       "      <th>sinc5_3</th>\n",
       "      <th>intel5_3</th>\n",
       "      <th>fun5_3</th>\n",
       "      <th>amb5_3</th>\n",
       "    </tr>\n",
       "  </thead>\n",
       "  <tbody>\n",
       "    <tr>\n",
       "      <th>count</th>\n",
       "      <td>8378.000000</td>\n",
       "      <td>8377.000000</td>\n",
       "      <td>8378.000000</td>\n",
       "      <td>8378.000000</td>\n",
       "      <td>8378.000000</td>\n",
       "      <td>8378.000000</td>\n",
       "      <td>8378.000000</td>\n",
       "      <td>8378.000000</td>\n",
       "      <td>6532.000000</td>\n",
       "      <td>8378.000000</td>\n",
       "      <td>...</td>\n",
       "      <td>3974.000000</td>\n",
       "      <td>3974.000000</td>\n",
       "      <td>3974.000000</td>\n",
       "      <td>3974.000000</td>\n",
       "      <td>3974.000000</td>\n",
       "      <td>2016.000000</td>\n",
       "      <td>2016.000000</td>\n",
       "      <td>2016.000000</td>\n",
       "      <td>2016.000000</td>\n",
       "      <td>2016.000000</td>\n",
       "    </tr>\n",
       "    <tr>\n",
       "      <th>mean</th>\n",
       "      <td>283.675937</td>\n",
       "      <td>8.960248</td>\n",
       "      <td>0.500597</td>\n",
       "      <td>17.327166</td>\n",
       "      <td>1.828837</td>\n",
       "      <td>11.350919</td>\n",
       "      <td>16.872046</td>\n",
       "      <td>9.042731</td>\n",
       "      <td>9.295775</td>\n",
       "      <td>8.927668</td>\n",
       "      <td>...</td>\n",
       "      <td>7.240312</td>\n",
       "      <td>8.093357</td>\n",
       "      <td>8.388777</td>\n",
       "      <td>7.658782</td>\n",
       "      <td>7.391545</td>\n",
       "      <td>6.810020</td>\n",
       "      <td>7.615079</td>\n",
       "      <td>7.932540</td>\n",
       "      <td>7.155258</td>\n",
       "      <td>7.048611</td>\n",
       "    </tr>\n",
       "    <tr>\n",
       "      <th>std</th>\n",
       "      <td>158.583367</td>\n",
       "      <td>5.491329</td>\n",
       "      <td>0.500029</td>\n",
       "      <td>10.940735</td>\n",
       "      <td>0.376673</td>\n",
       "      <td>5.995903</td>\n",
       "      <td>4.358458</td>\n",
       "      <td>5.514939</td>\n",
       "      <td>5.650199</td>\n",
       "      <td>5.477009</td>\n",
       "      <td>...</td>\n",
       "      <td>1.576596</td>\n",
       "      <td>1.610309</td>\n",
       "      <td>1.459094</td>\n",
       "      <td>1.744670</td>\n",
       "      <td>1.961417</td>\n",
       "      <td>1.507341</td>\n",
       "      <td>1.504551</td>\n",
       "      <td>1.340868</td>\n",
       "      <td>1.672787</td>\n",
       "      <td>1.717988</td>\n",
       "    </tr>\n",
       "    <tr>\n",
       "      <th>min</th>\n",
       "      <td>1.000000</td>\n",
       "      <td>1.000000</td>\n",
       "      <td>0.000000</td>\n",
       "      <td>1.000000</td>\n",
       "      <td>1.000000</td>\n",
       "      <td>1.000000</td>\n",
       "      <td>5.000000</td>\n",
       "      <td>1.000000</td>\n",
       "      <td>1.000000</td>\n",
       "      <td>1.000000</td>\n",
       "      <td>...</td>\n",
       "      <td>2.000000</td>\n",
       "      <td>2.000000</td>\n",
       "      <td>3.000000</td>\n",
       "      <td>2.000000</td>\n",
       "      <td>1.000000</td>\n",
       "      <td>2.000000</td>\n",
       "      <td>2.000000</td>\n",
       "      <td>4.000000</td>\n",
       "      <td>1.000000</td>\n",
       "      <td>1.000000</td>\n",
       "    </tr>\n",
       "    <tr>\n",
       "      <th>25%</th>\n",
       "      <td>154.000000</td>\n",
       "      <td>4.000000</td>\n",
       "      <td>0.000000</td>\n",
       "      <td>8.000000</td>\n",
       "      <td>2.000000</td>\n",
       "      <td>7.000000</td>\n",
       "      <td>14.000000</td>\n",
       "      <td>4.000000</td>\n",
       "      <td>4.000000</td>\n",
       "      <td>4.000000</td>\n",
       "      <td>...</td>\n",
       "      <td>7.000000</td>\n",
       "      <td>7.000000</td>\n",
       "      <td>8.000000</td>\n",
       "      <td>7.000000</td>\n",
       "      <td>6.000000</td>\n",
       "      <td>6.000000</td>\n",
       "      <td>7.000000</td>\n",
       "      <td>7.000000</td>\n",
       "      <td>6.000000</td>\n",
       "      <td>6.000000</td>\n",
       "    </tr>\n",
       "    <tr>\n",
       "      <th>50%</th>\n",
       "      <td>281.000000</td>\n",
       "      <td>8.000000</td>\n",
       "      <td>1.000000</td>\n",
       "      <td>16.000000</td>\n",
       "      <td>2.000000</td>\n",
       "      <td>11.000000</td>\n",
       "      <td>18.000000</td>\n",
       "      <td>8.000000</td>\n",
       "      <td>9.000000</td>\n",
       "      <td>8.000000</td>\n",
       "      <td>...</td>\n",
       "      <td>7.000000</td>\n",
       "      <td>8.000000</td>\n",
       "      <td>8.000000</td>\n",
       "      <td>8.000000</td>\n",
       "      <td>8.000000</td>\n",
       "      <td>7.000000</td>\n",
       "      <td>8.000000</td>\n",
       "      <td>8.000000</td>\n",
       "      <td>7.000000</td>\n",
       "      <td>7.000000</td>\n",
       "    </tr>\n",
       "    <tr>\n",
       "      <th>75%</th>\n",
       "      <td>407.000000</td>\n",
       "      <td>13.000000</td>\n",
       "      <td>1.000000</td>\n",
       "      <td>26.000000</td>\n",
       "      <td>2.000000</td>\n",
       "      <td>15.000000</td>\n",
       "      <td>20.000000</td>\n",
       "      <td>13.000000</td>\n",
       "      <td>14.000000</td>\n",
       "      <td>13.000000</td>\n",
       "      <td>...</td>\n",
       "      <td>8.000000</td>\n",
       "      <td>9.000000</td>\n",
       "      <td>9.000000</td>\n",
       "      <td>9.000000</td>\n",
       "      <td>9.000000</td>\n",
       "      <td>8.000000</td>\n",
       "      <td>9.000000</td>\n",
       "      <td>9.000000</td>\n",
       "      <td>8.000000</td>\n",
       "      <td>8.000000</td>\n",
       "    </tr>\n",
       "    <tr>\n",
       "      <th>max</th>\n",
       "      <td>552.000000</td>\n",
       "      <td>22.000000</td>\n",
       "      <td>1.000000</td>\n",
       "      <td>44.000000</td>\n",
       "      <td>2.000000</td>\n",
       "      <td>21.000000</td>\n",
       "      <td>22.000000</td>\n",
       "      <td>22.000000</td>\n",
       "      <td>22.000000</td>\n",
       "      <td>22.000000</td>\n",
       "      <td>...</td>\n",
       "      <td>12.000000</td>\n",
       "      <td>12.000000</td>\n",
       "      <td>12.000000</td>\n",
       "      <td>12.000000</td>\n",
       "      <td>12.000000</td>\n",
       "      <td>10.000000</td>\n",
       "      <td>10.000000</td>\n",
       "      <td>10.000000</td>\n",
       "      <td>10.000000</td>\n",
       "      <td>10.000000</td>\n",
       "    </tr>\n",
       "  </tbody>\n",
       "</table>\n",
       "<p>8 rows × 191 columns</p>\n",
       "</div>"
      ],
      "text/plain": [
       "<div>\n",
       "<style scoped>\n",
       "    .dataframe tbody tr th:only-of-type {\n",
       "        vertical-align: middle;\n",
       "    }\n",
       "\n",
       "    .dataframe tbody tr th {\n",
       "        vertical-align: top;\n",
       "    }\n",
       "\n",
       "    .dataframe thead th {\n",
       "        text-align: right;\n",
       "    }\n",
       "</style>\n",
       "<table border=\"1\" class=\"dataframe\">\n",
       "  <thead>\n",
       "    <tr style=\"text-align: right;\">\n",
       "      <th></th>\n",
       "      <th>iid</th>\n",
       "      <th>id</th>\n",
       "      <th>gender</th>\n",
       "      <th>idg</th>\n",
       "      <th>condtn</th>\n",
       "      <th>wave</th>\n",
       "      <th>round</th>\n",
       "      <th>position</th>\n",
       "      <th>positin1</th>\n",
       "      <th>order</th>\n",
       "      <th>...</th>\n",
       "      <th>attr3_3</th>\n",
       "      <th>sinc3_3</th>\n",
       "      <th>intel3_3</th>\n",
       "      <th>fun3_3</th>\n",
       "      <th>amb3_3</th>\n",
       "      <th>attr5_3</th>\n",
       "      <th>sinc5_3</th>\n",
       "      <th>intel5_3</th>\n",
       "      <th>fun5_3</th>\n",
       "      <th>amb5_3</th>\n",
       "    </tr>\n",
       "  </thead>\n",
       "  <tbody>\n",
       "    <tr>\n",
       "      <th>count</th>\n",
       "      <td>8378.000000</td>\n",
       "      <td>8377.000000</td>\n",
       "      <td>8378.000000</td>\n",
       "      <td>8378.000000</td>\n",
       "      <td>8378.000000</td>\n",
       "      <td>8378.000000</td>\n",
       "      <td>8378.000000</td>\n",
       "      <td>8378.000000</td>\n",
       "      <td>6532.000000</td>\n",
       "      <td>8378.000000</td>\n",
       "      <td>...</td>\n",
       "      <td>3974.000000</td>\n",
       "      <td>3974.000000</td>\n",
       "      <td>3974.000000</td>\n",
       "      <td>3974.000000</td>\n",
       "      <td>3974.000000</td>\n",
       "      <td>2016.000000</td>\n",
       "      <td>2016.000000</td>\n",
       "      <td>2016.000000</td>\n",
       "      <td>2016.000000</td>\n",
       "      <td>2016.000000</td>\n",
       "    </tr>\n",
       "    <tr>\n",
       "      <th>mean</th>\n",
       "      <td>283.675937</td>\n",
       "      <td>8.960248</td>\n",
       "      <td>0.500597</td>\n",
       "      <td>17.327166</td>\n",
       "      <td>1.828837</td>\n",
       "      <td>11.350919</td>\n",
       "      <td>16.872046</td>\n",
       "      <td>9.042731</td>\n",
       "      <td>9.295775</td>\n",
       "      <td>8.927668</td>\n",
       "      <td>...</td>\n",
       "      <td>7.240312</td>\n",
       "      <td>8.093357</td>\n",
       "      <td>8.388777</td>\n",
       "      <td>7.658782</td>\n",
       "      <td>7.391545</td>\n",
       "      <td>6.810020</td>\n",
       "      <td>7.615079</td>\n",
       "      <td>7.932540</td>\n",
       "      <td>7.155258</td>\n",
       "      <td>7.048611</td>\n",
       "    </tr>\n",
       "    <tr>\n",
       "      <th>std</th>\n",
       "      <td>158.583367</td>\n",
       "      <td>5.491329</td>\n",
       "      <td>0.500029</td>\n",
       "      <td>10.940735</td>\n",
       "      <td>0.376673</td>\n",
       "      <td>5.995903</td>\n",
       "      <td>4.358458</td>\n",
       "      <td>5.514939</td>\n",
       "      <td>5.650199</td>\n",
       "      <td>5.477009</td>\n",
       "      <td>...</td>\n",
       "      <td>1.576596</td>\n",
       "      <td>1.610309</td>\n",
       "      <td>1.459094</td>\n",
       "      <td>1.744670</td>\n",
       "      <td>1.961417</td>\n",
       "      <td>1.507341</td>\n",
       "      <td>1.504551</td>\n",
       "      <td>1.340868</td>\n",
       "      <td>1.672787</td>\n",
       "      <td>1.717988</td>\n",
       "    </tr>\n",
       "    <tr>\n",
       "      <th>min</th>\n",
       "      <td>1.000000</td>\n",
       "      <td>1.000000</td>\n",
       "      <td>0.000000</td>\n",
       "      <td>1.000000</td>\n",
       "      <td>1.000000</td>\n",
       "      <td>1.000000</td>\n",
       "      <td>5.000000</td>\n",
       "      <td>1.000000</td>\n",
       "      <td>1.000000</td>\n",
       "      <td>1.000000</td>\n",
       "      <td>...</td>\n",
       "      <td>2.000000</td>\n",
       "      <td>2.000000</td>\n",
       "      <td>3.000000</td>\n",
       "      <td>2.000000</td>\n",
       "      <td>1.000000</td>\n",
       "      <td>2.000000</td>\n",
       "      <td>2.000000</td>\n",
       "      <td>4.000000</td>\n",
       "      <td>1.000000</td>\n",
       "      <td>1.000000</td>\n",
       "    </tr>\n",
       "    <tr>\n",
       "      <th>25%</th>\n",
       "      <td>154.000000</td>\n",
       "      <td>4.000000</td>\n",
       "      <td>0.000000</td>\n",
       "      <td>8.000000</td>\n",
       "      <td>2.000000</td>\n",
       "      <td>7.000000</td>\n",
       "      <td>14.000000</td>\n",
       "      <td>4.000000</td>\n",
       "      <td>4.000000</td>\n",
       "      <td>4.000000</td>\n",
       "      <td>...</td>\n",
       "      <td>7.000000</td>\n",
       "      <td>7.000000</td>\n",
       "      <td>8.000000</td>\n",
       "      <td>7.000000</td>\n",
       "      <td>6.000000</td>\n",
       "      <td>6.000000</td>\n",
       "      <td>7.000000</td>\n",
       "      <td>7.000000</td>\n",
       "      <td>6.000000</td>\n",
       "      <td>6.000000</td>\n",
       "    </tr>\n",
       "    <tr>\n",
       "      <th>50%</th>\n",
       "      <td>281.000000</td>\n",
       "      <td>8.000000</td>\n",
       "      <td>1.000000</td>\n",
       "      <td>16.000000</td>\n",
       "      <td>2.000000</td>\n",
       "      <td>11.000000</td>\n",
       "      <td>18.000000</td>\n",
       "      <td>8.000000</td>\n",
       "      <td>9.000000</td>\n",
       "      <td>8.000000</td>\n",
       "      <td>...</td>\n",
       "      <td>7.000000</td>\n",
       "      <td>8.000000</td>\n",
       "      <td>8.000000</td>\n",
       "      <td>8.000000</td>\n",
       "      <td>8.000000</td>\n",
       "      <td>7.000000</td>\n",
       "      <td>8.000000</td>\n",
       "      <td>8.000000</td>\n",
       "      <td>7.000000</td>\n",
       "      <td>7.000000</td>\n",
       "    </tr>\n",
       "    <tr>\n",
       "      <th>75%</th>\n",
       "      <td>407.000000</td>\n",
       "      <td>13.000000</td>\n",
       "      <td>1.000000</td>\n",
       "      <td>26.000000</td>\n",
       "      <td>2.000000</td>\n",
       "      <td>15.000000</td>\n",
       "      <td>20.000000</td>\n",
       "      <td>13.000000</td>\n",
       "      <td>14.000000</td>\n",
       "      <td>13.000000</td>\n",
       "      <td>...</td>\n",
       "      <td>8.000000</td>\n",
       "      <td>9.000000</td>\n",
       "      <td>9.000000</td>\n",
       "      <td>9.000000</td>\n",
       "      <td>9.000000</td>\n",
       "      <td>8.000000</td>\n",
       "      <td>9.000000</td>\n",
       "      <td>9.000000</td>\n",
       "      <td>8.000000</td>\n",
       "      <td>8.000000</td>\n",
       "    </tr>\n",
       "    <tr>\n",
       "      <th>max</th>\n",
       "      <td>552.000000</td>\n",
       "      <td>22.000000</td>\n",
       "      <td>1.000000</td>\n",
       "      <td>44.000000</td>\n",
       "      <td>2.000000</td>\n",
       "      <td>21.000000</td>\n",
       "      <td>22.000000</td>\n",
       "      <td>22.000000</td>\n",
       "      <td>22.000000</td>\n",
       "      <td>22.000000</td>\n",
       "      <td>...</td>\n",
       "      <td>12.000000</td>\n",
       "      <td>12.000000</td>\n",
       "      <td>12.000000</td>\n",
       "      <td>12.000000</td>\n",
       "      <td>12.000000</td>\n",
       "      <td>10.000000</td>\n",
       "      <td>10.000000</td>\n",
       "      <td>10.000000</td>\n",
       "      <td>10.000000</td>\n",
       "      <td>10.000000</td>\n",
       "    </tr>\n",
       "  </tbody>\n",
       "</table>\n",
       "<p>8 rows × 191 columns</p>\n",
       "</div>"
      ]
     },
     "execution_count": 1,
     "metadata": {},
     "output_type": "execute_result"
    }
   ],
   "source": [
    "import pandas as pd\n",
    "import numpy as np\n",
    "\n",
    "\n",
    "dating = pd.read_csv('raw_speed_dating.csv', encoding='ISO-8859-1')\n",
    "dating.describe()"
   ]
  },
  {
   "cell_type": "markdown",
   "metadata": {
    "id": "P1VocW-LPwv5",
    "colab_type": "text"
   },
   "source": [
    "# Select only the attributes we will use"
   ]
  },
  {
   "cell_type": "code",
   "execution_count": 3,
   "metadata": {
    "id": "dAgldcGaNrBw",
    "colab_type": "code",
    "colab": {
     "base_uri": "https://localhost:8080/",
     "height": 317.0
    },
    "outputId": "4c18069d-2cc6-4c2a-c2c9-feead62176e0",
    "executionInfo": {
     "status": "ok",
     "timestamp": 1.539684566275E12,
     "user_tz": -120.0,
     "elapsed": 774.0,
     "user": {
      "displayName": "Joep Kt",
      "photoUrl": "",
      "userId": "14938389179235968030"
     }
    }
   },
   "outputs": [
    {
     "name": "stdout",
     "output_type": "stream",
     "text": [
      "               iid       gender          pid        match      partner  \\\ncount  8378.000000  8378.000000  8368.000000  8378.000000  8378.000000   \nmean    283.675937     0.500597   283.863767     0.164717     8.963595   \nstd     158.583367     0.500029   158.584899     0.370947     5.491068   \nmin       1.000000     0.000000     1.000000     0.000000     1.000000   \n25%     154.000000     0.000000   154.000000     0.000000     4.000000   \n50%     281.000000     1.000000   281.000000     0.000000     8.000000   \n75%     407.000000     1.000000   408.000000     0.000000    13.000000   \nmax     552.000000     1.000000   552.000000     1.000000    22.000000   \n\n                id         wave          age     field_cd         race  \\\ncount  8377.000000  8378.000000  8283.000000  8296.000000  8315.000000   \nmean      8.960248    11.350919    26.358928     7.662488     2.757186   \nstd       5.491329     5.995903     3.566763     3.758935     1.230905   \nmin       1.000000     1.000000    18.000000     1.000000     1.000000   \n25%       4.000000     7.000000    24.000000     5.000000     2.000000   \n50%       8.000000    11.000000    26.000000     8.000000     2.000000   \n75%      13.000000    15.000000    28.000000    10.000000     4.000000   \nmax      22.000000    21.000000    55.000000    18.000000     6.000000   \n\n          ...            amb5_1       attr_o       sinc_o      intel_o  \\\ncount     ...       4906.000000  8176.000000  8101.000000  8082.000000   \nmean      ...          7.617611     6.189995     7.175164     7.368597   \nstd       ...          1.773094     1.950169     1.740315     1.550453   \nmin       ...          1.000000     0.000000     0.000000     0.000000   \n25%       ...          7.000000     5.000000     6.000000     6.000000   \n50%       ...          8.000000     6.000000     7.000000     7.000000   \n75%       ...          9.000000     8.000000     8.000000     8.000000   \nmax       ...         10.000000    10.000000    10.000000    10.000000   \n\n               fun        amb_o       shar_o       like_o       prob_o  \\\ncount  8028.000000  7666.000000  7311.000000  8138.000000  8069.000000   \nmean      6.400598     6.777524     5.474559     6.134087     5.207523   \nstd       1.953702     1.794055     2.156363     1.841285     2.129565   \nmin       0.000000     0.000000     0.000000     0.000000     0.000000   \n25%       5.000000     6.000000     4.000000     5.000000     4.000000   \n50%       7.000000     7.000000     6.000000     6.000000     5.000000   \n75%       8.000000     8.000000     7.000000     7.000000     7.000000   \nmax      10.000000    10.000000    10.000000    10.000000    10.000000   \n\n          match_es  \ncount  7205.000000  \nmean      3.207814  \nstd       2.444813  \nmin       0.000000  \n25%       2.000000  \n50%       3.000000  \n75%       4.000000  \nmax      18.000000  \n\n[8 rows x 72 columns]\n"
     ]
    }
   ],
   "source": [
    "# Now that we know which features we want and which ones we do not. See Excel file.\n",
    "listfeat = 'iid,gender,pid,match,partner,id,wave,age,field_cd,race,imprace,imprelig,goal,date,go_out,career_c,sports,tvsports,exercise,dining,museums,art,hiking,gaming,clubbing,reading,tv,theater,movies,concerts,music,shopping,yoga,exphappy,expnum,attr1_1,sinc1_1,intel1_1,fun1_1,amb1_1,shar1_1,attr4_1,sinc4_1,intel4_1,fun4_1,amb4_1,shar4_1,attr2_1,sinc2_1,intel2_1,fun2_1,amb2_1,shar2_1,attr3_1,sinc3_1,fun3_1,intel3_1,amb3_1,attr5_1,sinc5_1,intel5_1,fun5_1,amb5_1,attr,sinc,intel,fun,amb,shar,like,prob,match_es'\n",
    "# Converting it to an array\n",
    "listfeat = listfeat.split(',')\n",
    "# Using this array to select those features from the dataset\n",
    "ds = dating[listfeat]\n",
    "\n",
    "#Rename attractiveness given to other person to _o\n",
    "# attr,sinc,intel,fun,amb,shar,like,prob\n",
    "ds = ds.rename(\n",
    "    columns={'attr': 'attr_o', 'sinc': 'sinc_o', 'intel': 'intel_o', 'amb': 'amb_o', 'shar': 'shar_o', 'like': 'like_o',\n",
    "             'prob': 'prob_o'})\n",
    "\n",
    "# Replace '' to NaN (not necessary if you run locally)\n",
    "ds = ds.replace('', np.nan, regex=True)\n",
    "print(ds.describe())"
   ]
  },
  {
   "cell_type": "markdown",
   "metadata": {
    "id": "6BROlYvy47Gw",
    "colab_type": "text"
   },
   "source": [
    "# Fix all the rows with missing pid, id"
   ]
  },
  {
   "cell_type": "code",
   "execution_count": 4,
   "metadata": {
    "id": "IpZxwqJuuINm",
    "colab_type": "code",
    "colab": {
     "base_uri": "https://localhost:8080/",
     "height": 204.0
    },
    "outputId": "820f51d8-1173-4a2d-d2bc-8024df4e4c97",
    "executionInfo": {
     "status": "ok",
     "timestamp": 1.539685945589E12,
     "user_tz": -120.0,
     "elapsed": 482.0,
     "user": {
      "displayName": "Joep Kt",
      "photoUrl": "",
      "userId": "14938389179235968030"
     }
    }
   },
   "outputs": [
    {
     "name": "stdout",
     "output_type": "stream",
     "text": [
      "wave        0\npartner     0\nid          1\npid        10\ndtype: int64\nAfter fixes are applied\nwave       0\npartner    0\nid         0\npid        0\ndtype: int64\n"
     ]
    }
   ],
   "source": [
    "#See whats wrong with current dataset\n",
    "print(ds[['wave','partner','id','pid']].isnull().sum())\n",
    "#Fix one missing id for iid 552 -> id = 22\n",
    "ds.loc[ds.iid == 552, 'id'] = 22\n",
    "\n",
    "#Get all rows with missing pid\n",
    "no_pid = ds.pid.isnull()\n",
    "\n",
    "# Fix the missing pid's\n",
    "for i, row in ds[no_pid].iterrows():\n",
    "  wave = row.wave\n",
    "  partner = row.partner\n",
    "  iid_of_partner = ds.loc[(ds.wave == wave) & (ds.id == partner)].iid.unique()[0]\n",
    "  ds.loc[i, 'pid'] = iid_of_partner\n",
    "\n",
    "# Juicy to see the 0 :P\n",
    "print('After fixes are applied')\n",
    "print(ds[['wave','partner','id','pid']].isnull().sum())\n",
    "\n",
    "\n"
   ]
  },
  {
   "cell_type": "markdown",
   "metadata": {
    "id": "1Oc9dGdfsqY5",
    "colab_type": "text"
   },
   "source": [
    "# Deal with missing values (remove attributes)"
   ]
  },
  {
   "cell_type": "code",
   "execution_count": 5,
   "metadata": {
    "id": "a-49ibIxsqY7",
    "colab_type": "code",
    "colab": {
     "base_uri": "https://localhost:8080/",
     "height": 34.0
    },
    "outputId": "fbcb5217-cf42-4d35-a8ec-2624e174cc2d",
    "executionInfo": {
     "status": "ok",
     "timestamp": 1.539685948503E12,
     "user_tz": -120.0,
     "elapsed": 725.0,
     "user": {
      "displayName": "Joep Kt",
      "photoUrl": "",
      "userId": "14938389179235968030"
     }
    }
   },
   "outputs": [
    {
     "name": "stdout",
     "output_type": "stream",
     "text": [
      "Index(['expnum', 'attr5_1', 'sinc5_1', 'intel5_1', 'fun5_1', 'amb5_1'], dtype='object')\n"
     ]
    }
   ],
   "source": [
    "#What are we dealing with? This function displays the mean missing values per column sorted descending (most missing values first)\n",
    "mean_missing = ds.isnull().mean().sort_values(ascending=False)\n",
    "# print(mean_missing)\n",
    "\n",
    "#Select the columns with more than 30% missing values (you will see from previous result that these are expnum and the 5_1 values. \n",
    "# (We could chose later to remove the 4_1 values as well as they show to have ~ 20% missing values)\n",
    "missing = ds.columns[ds.isnull().mean() > 0.3]\n",
    "print(missing)\n",
    "\n",
    "#We could instead just not import these columns in the code block above...\n",
    "ds2 = ds.drop(missing, axis=1)"
   ]
  },
  {
   "cell_type": "markdown",
   "metadata": {
    "id": "_DA5RKR5sqZB",
    "colab_type": "text"
   },
   "source": [
    "# Standardize the character trait attributes 0 - 100 point distribution\n",
    "\n"
   ]
  },
  {
   "cell_type": "code",
   "execution_count": 6,
   "metadata": {
    "id": "F4VREWf3sqZC",
    "colab_type": "code",
    "colab": {
     "base_uri": "https://localhost:8080/",
     "height": 649.0
    },
    "outputId": "b6cbcced-fe15-46db-ad30-7bcb5ded397a",
    "executionInfo": {
     "status": "ok",
     "timestamp": 1.539685952008E12,
     "user_tz": -120.0,
     "elapsed": 1245.0,
     "user": {
      "displayName": "Joep Kt",
      "photoUrl": "",
      "userId": "14938389179235968030"
     }
    }
   },
   "outputs": [
    {
     "name": "stdout",
     "output_type": "stream",
     "text": [
      "[['attr1_1', 'sinc1_1', 'intel1_1', 'fun1_1', 'amb1_1', 'shar1_1'], ['attr4_1', 'sinc4_1', 'intel4_1', 'fun4_1', 'amb4_1', 'shar4_1'], ['attr2_1', 'sinc2_1', 'intel2_1', 'fun2_1', 'amb2_1', 'shar2_1'], ['attr3_1', 'sinc3_1', 'fun3_1', 'intel3_1', 'amb3_1']]\n"
     ]
    },
    {
     "name": "stdout",
     "output_type": "stream",
     "text": [
      "attr1_1     79\nsinc1_1     79\nintel1_1    79\nfun1_1      79\namb1_1      79\nshar1_1     79\ndtype: int64\n"
     ]
    },
    {
     "name": "stdout",
     "output_type": "stream",
     "text": [
      "attr4_1     1889\nsinc4_1     1889\nintel4_1    1889\nfun4_1      1889\namb4_1      1889\nshar4_1     1889\ndtype: int64\n"
     ]
    },
    {
     "name": "stdout",
     "output_type": "stream",
     "text": [
      "attr2_1     79\nsinc2_1     79\nintel2_1    79\nfun2_1      79\namb2_1      79\nshar2_1     79\ndtype: int64\nattr3_1     105\nsinc3_1     105\nfun3_1      105\nintel3_1    105\namb3_1      105\ndtype: int64\n[]\nattr1_1     80.0\nsinc1_1     10.0\nintel1_1    10.0\nfun1_1       0.0\namb1_1       0.0\nshar1_1      0.0\nName: 1442, dtype: float64\n"
     ]
    }
   ],
   "source": [
    "ds3 = ds2.copy()\n",
    "\n",
    "# Select attributes per assessment\n",
    "traits = ds3.filter(regex='attr', axis=1)\n",
    "assesments = [name.replace('attr', '') for name in list(traits)]\n",
    "assesments.remove('_o')\n",
    "\n",
    "#All attributes concerning assessments of character traits combined...\n",
    "combined = [list(ds3.filter(regex=assesment, axis=1)) for assesment in assesments]\n",
    "print(combined)\n",
    "count = []\n",
    "for traits in combined:\n",
    "    # Drop every row where at least one value is missing (per assessment type)  \n",
    "    #ds3.dropna(axis=0, subset=traits, how='any', inplace=True)\n",
    "    # Create total for this assessment type\n",
    "    total = ds3[traits].replace(np.nan, 0).apply(sum, axis=1)\n",
    "    #Iterate over rows to correct NaNs where 100 points have already been distributed\n",
    "    ds3.loc[total == 100, traits] = ds3.loc[total == 100, traits].replace(np.nan, 0)#Idk why, but inplace=True doesn't work here...\n",
    "    print(ds3[traits].isnull().sum())\n",
    "    #Standardize values\n",
    "    for trait in traits:\n",
    "        # Create new value for this trait using created total\n",
    "        ds3[trait] = ds3[trait] * 100 / total\n",
    "#Values left after removing every row that has a missing value in any of the character traits asessments...\n",
    "len(ds3.index)\n",
    "print(count)\n",
    "print(ds3.loc[1442, ['attr1_1','sinc1_1','intel1_1','fun1_1','amb1_1','shar1_1']])"
   ]
  },
  {
   "cell_type": "code",
   "execution_count": 0,
   "metadata": {
    "id": "tSfxaGwT5FBy",
    "colab_type": "code",
    "colab": {}
   },
   "outputs": [],
   "source": [
    ""
   ]
  },
  {
   "cell_type": "markdown",
   "metadata": {
    "id": "3J6yvGYtQkUx",
    "colab_type": "text"
   },
   "source": [
    "## Correlation plots"
   ]
  },
  {
   "cell_type": "code",
   "execution_count": 7,
   "metadata": {
    "id": "DdiWHGIWQmYb",
    "colab_type": "code",
    "colab": {
     "base_uri": "https://localhost:8080/",
     "height": 2241.0
    },
    "outputId": "4ea21002-fe9e-48d0-a028-2cfb58804dc9",
    "executionInfo": {
     "status": "ok",
     "timestamp": 1.539163834798E12,
     "user_tz": -120.0,
     "elapsed": 1782.0,
     "user": {
      "displayName": "Valerie Bense",
      "photoUrl": "",
      "userId": "00827829603148254620"
     }
    }
   },
   "outputs": [
    {
     "data": {
      "image/png": "[encoded data removed]",
      "text/plain": [
       "<matplotlib.figure.Figure at 0x7f845d0ec210>"
      ]
     },
     "metadata": {
      "tags": []
     },
     "output_type": "display_data"
    },
    {
     "data": {
      "image/png": "[encoded data removed]",
      "text/plain": [
       "<matplotlib.figure.Figure at 0x7f8477c1df90>"
      ]
     },
     "metadata": {
      "tags": []
     },
     "output_type": "display_data"
    },
    {
     "data": {
      "image/png": "[encoded data removed]",
      "text/plain": [
       "<matplotlib.figure.Figure at 0x7f845c468c90>"
      ]
     },
     "metadata": {
      "tags": []
     },
     "output_type": "display_data"
    },
    {
     "data": {
      "image/png": "[encoded data removed]",
      "text/plain": [
       "<matplotlib.figure.Figure at 0x7f845cea4950>"
      ]
     },
     "metadata": {
      "tags": []
     },
     "output_type": "display_data"
    },
    {
     "data": {
      "image/png": "[encoded data removed]",
      "text/plain": [
       "<matplotlib.figure.Figure at 0x7f845d001d90>"
      ]
     },
     "metadata": {
      "tags": []
     },
     "output_type": "display_data"
    }
   ],
   "source": [
    "traits = ['attr', 'sinc', 'fun', 'intel', 'amb']\n",
    "\n",
    "# Correlate traits against each other.\n",
    "for f in [list(ds3.filter(regex=trait, axis=1)) for trait in traits]:\n",
    "    correlations = ds3[f].corr()\n",
    "    # plot correlation matrix\n",
    "    fig = plt.figure()\n",
    "    ax = fig.add_subplot(111)\n",
    "    cax = ax.matshow(correlations, vmin=-1, vmax=1)\n",
    "    fig.colorbar(cax)\n",
    "    plt.rcParams['figure.figsize'] = (20, 8)\n",
    "    ticks = np.arange(0, 5, 1)\n",
    "    ax.set_xticks(ticks)\n",
    "    ax.set_yticks(ticks)\n",
    "    ax.set_xticklabels(f)\n",
    "    ax.set_yticklabels(f)\n",
    "    plt.show()"
   ]
  },
  {
   "cell_type": "code",
   "execution_count": 11,
   "metadata": {
    "id": "BjQ1iW6nRAmv",
    "colab_type": "code",
    "colab": {
     "base_uri": "https://localhost:8080/",
     "height": 1905.0
    },
    "outputId": "ea401f80-233c-424e-c436-fd21461bf804",
    "executionInfo": {
     "status": "ok",
     "timestamp": 1.539162774868E12,
     "user_tz": -120.0,
     "elapsed": 1511.0,
     "user": {
      "displayName": "Allard de Jong",
      "photoUrl": "",
      "userId": "12710525493493176359"
     }
    }
   },
   "outputs": [
    {
     "data": {
      "image/png": "[encoded data removed]",
      "text/plain": [
       "<matplotlib.figure.Figure at 0x7f2c8f1ec450>"
      ]
     },
     "metadata": {
      "tags": []
     },
     "output_type": "display_data"
    },
    {
     "data": {
      "image/png": "[encoded data removed]",
      "text/plain": [
       "<matplotlib.figure.Figure at 0x7f2c9f7656d0>"
      ]
     },
     "metadata": {
      "tags": []
     },
     "output_type": "display_data"
    },
    {
     "data": {
      "image/png": "[encoded data removed]",
      "text/plain": [
       "<matplotlib.figure.Figure at 0x7f2c8dc417d0>"
      ]
     },
     "metadata": {
      "tags": []
     },
     "output_type": "display_data"
    },
    {
     "data": {
      "image/png": "[encoded data removed]",
      "text/plain": [
       "<matplotlib.figure.Figure at 0x7f2c8e83fc90>"
      ]
     },
     "metadata": {
      "tags": []
     },
     "output_type": "display_data"
    }
   ],
   "source": [
    "# Correlate assessments against each other.\n",
    "for assesment in combined:\n",
    "    correlations = ds3[assesment].corr()\n",
    "    # plot correlation matrix\n",
    "    fig = plt.figure()\n",
    "    ax = fig.add_subplot(111)\n",
    "    cax = ax.matshow(correlations, vmin=-1, vmax=1)\n",
    "    fig.colorbar(cax)\n",
    "    plt.rcParams['figure.figsize'] = (20,8)\n",
    "    ticks = np.arange(0,5,1)\n",
    "    ax.set_xticks(ticks)\n",
    "    ax.set_yticks(ticks)\n",
    "    ax.set_xticklabels(assesment)\n",
    "    ax.set_yticklabels(assesment)\n",
    "    plt.show()"
   ]
  },
  {
   "cell_type": "markdown",
   "metadata": {
    "id": "sQhfkm2QsqZK",
    "colab_type": "text"
   },
   "source": [
    "# Separate the database in female/male"
   ]
  },
  {
   "cell_type": "code",
   "execution_count": 7,
   "metadata": {
    "id": "CKyUY7uusqZN",
    "colab_type": "code",
    "colab": {}
   },
   "outputs": [],
   "source": [
    "ds = ds3\n",
    "# We will create two different dataframes, Males and Females\n",
    "dating_males = ds.loc[dating['gender'] == 1]\n",
    "# Adding _M to all the columns to identify Male features\n",
    "dating_males.columns = dating_males.columns + '_M'\n",
    "\n",
    "dating_females = ds.loc[dating['gender'] == 0]\n",
    "# Adding _F to all the columns to identify Female features\n",
    "dating_females.columns = dating_females.columns + '_F'\n",
    "\n",
    "# Now we will merge the two dataframes, setting the keys in pid_M and iid_F\n",
    "ds = dating_males.merge(dating_females, left_on='iid_M', right_on='pid_F', how='inner')\n",
    "\n",
    "# Here we take only the rows containing equal iid_M and pid_F\n",
    "ds = ds[ds['pid_M'] == ds['iid_F']]\n",
    "pd.set_option('display.max_columns', 140)\n"
   ]
  },
  {
   "cell_type": "markdown",
   "metadata": {
    "id": "gUcB6vc3sqZR",
    "colab_type": "text"
   },
   "source": [
    "Delete unnecessary items"
   ]
  },
  {
   "cell_type": "code",
   "execution_count": 8,
   "metadata": {
    "id": "tTOI1ueEsqZU",
    "colab_type": "code",
    "colab": {}
   },
   "outputs": [],
   "source": [
    "# Now we have 158 columns and we no longer need a few attributes such as iid_M, gender_M ...\n",
    "pd.set_option('display.max_columns', 500)\n",
    "pd.set_option('display.max_rows', 20)\n",
    "# Here we can see how irrelevant they are now:\n",
    "ds.head(10)\n",
    "\n",
    "# Let's drop them\n",
    "ds.__delitem__('iid_M')\n",
    "ds.__delitem__('gender_M')\n",
    "ds.__delitem__('pid_M')\n",
    "ds.__delitem__('match_M')\n",
    "ds.__delitem__('iid_F')\n",
    "ds.__delitem__('gender_F')\n",
    "ds.__delitem__('pid_F')\n",
    "ds.__delitem__('wave_M')\n",
    "ds.describe()\n",
    "\n",
    "# The match_F is the match in general, let's rename it\n",
    "ds = ds.rename(columns={'match_F': 'match', 'wave_F': 'wave'})\n",
    "\n",
    "#Reseting index\n",
    "ds = ds.reset_index()\n",
    "ds.__delitem__('index')"
   ]
  },
  {
   "cell_type": "markdown",
   "metadata": {
    "id": "uqZ4WrYhsqZm",
    "colab_type": "text"
   },
   "source": [
    "Change missing values with SKlearn Mean"
   ]
  },
  {
   "cell_type": "code",
   "execution_count": 0,
   "metadata": {
    "id": "M3AKb3HOsqZp",
    "colab_type": "code",
    "colab": {}
   },
   "outputs": [],
   "source": [
    "from sklearn.preprocessing import Imputer\n",
    "\n",
    "imp = Imputer(missing_values = 'NaN', strategy = 'mean', axis = 0)\n",
    "imp.fit(dating3)\n",
    "dating_no_missing = pd.DataFrame(data = imp.transform(dating3), columns = dating3.columns)\n",
    "dating_no_missing.describe()"
   ]
  },
  {
   "cell_type": "code",
   "execution_count": 11,
   "metadata": {
    "id": "csWt9BD2-gIo",
    "colab_type": "code",
    "colab": {}
   },
   "outputs": [],
   "source": [
    "ds.index.name = 'index'\n",
    "\n",
    "file = ds.to_csv('speeddating.csv', sep=',', encoding='utf-8')\n",
    "\n"
   ]
  }
 ],
 "metadata": {
  "colab": {
   "name": "SpeedDating.ipynb",
   "version": "0.3.2",
   "provenance": [],
   "collapsed_sections": []
  },
  "kernelspec": {
   "display_name": "Python 2",
   "language": "python",
   "name": "python2"
  }
 },
 "nbformat": 4,
 "nbformat_minor": 0
}
